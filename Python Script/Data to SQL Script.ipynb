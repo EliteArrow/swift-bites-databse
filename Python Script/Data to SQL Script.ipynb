{
 "cells": [
  {
   "cell_type": "markdown",
   "id": "81a097a1",
   "metadata": {},
   "source": [
    "### Python Script for SQL data Insertion script"
   ]
  },
  {
   "cell_type": "markdown",
   "id": "722bd1be",
   "metadata": {},
   "source": [
    "All script will read data from related csv file and generate sql script"
   ]
  },
  {
   "cell_type": "code",
   "execution_count": 18,
   "id": "d8f89972",
   "metadata": {},
   "outputs": [],
   "source": [
    "import csv"
   ]
  },
  {
   "cell_type": "code",
   "execution_count": 19,
   "id": "f5df79e7",
   "metadata": {},
   "outputs": [],
   "source": [
    "# Null values handler\n",
    "def null_handle(row, n):\n",
    "    if row[n] == '':\n",
    "        return 'NULL'\n",
    "    else:\n",
    "        return f\"'{row[n]}'\""
   ]
  },
  {
   "cell_type": "code",
   "execution_count": 20,
   "id": "36d845f8",
   "metadata": {},
   "outputs": [],
   "source": [
    "# Restaurant Data\n",
    "table_name = \"RestaurantData\"\n",
    "\n",
    "with open('RestaurantData.csv', 'r') as file:\n",
    "    reader = csv.reader(file)\n",
    "    next(reader)  # Skip header row\n",
    "    with open('RestaurantData.sql', 'w') as output_file:\n",
    "        for row in reader:\n",
    "            insert_statement = f\"INSERT INTO {table_name} (restaurant_id, restaurant_Name, apartment_Building, street, city, state, zipCode, contact_No, contact_Email, operating_Hours) VALUES ('{row[0]}', '{row[1]}', {null_handle(row, 2)}, {null_handle(row, 3)}, '{row[4]}', '{row[5]}', '{row[6]}', '{row[7]}', '{row[8]}', {null_handle(row, 9)});\"\n",
    "            output_file.write(insert_statement + '\\n')"
   ]
  },
  {
   "cell_type": "code",
   "execution_count": 21,
   "id": "8a689a38",
   "metadata": {},
   "outputs": [],
   "source": [
    "# Restaurant Facility Data\n",
    "table_name = \"RestaurantFacility\"\n",
    "\n",
    "with open('RestaurantFacility.csv', 'r') as file:\n",
    "    reader = csv.reader(file)\n",
    "    next(reader)  # Skip header row\n",
    "    with open('RestaurantFacility.sql', 'w') as output_file:\n",
    "        for row in reader:\n",
    "            insert_statement = f\"INSERT INTO {table_name} (restaurant_id, facility) VALUES ('{row[0]}', '{row[1]}');\"\n",
    "            output_file.write(insert_statement + '\\n')\n"
   ]
  },
  {
   "cell_type": "code",
   "execution_count": 23,
   "id": "ed052adb",
   "metadata": {},
   "outputs": [],
   "source": [
    "# Restaurant Items Data\n",
    "table_name = \"ItemData\"\n",
    "\n",
    "with open('ItemData.csv', 'r') as file:\n",
    "    reader = csv.reader(file)\n",
    "    next(reader)  # Skip header row\n",
    "    with open('ItemData.sql', 'w') as output_file:\n",
    "        for row in reader:\n",
    "            insert_statement = f\"INSERT INTO {table_name} (item_id, restaurant_id, item_name, cuisine_type, price, calories, item_type, preparation_time) VALUES ('{row[0]}', {null_handle(row, 1)}, '{row[2]}', '{row[3]}', {null_handle(row, 4)}, {null_handle(row, 5)}, '{row[6]}', {null_handle(row, 7)});\"\n",
    "            output_file.write(insert_statement + '\\n')"
   ]
  },
  {
   "cell_type": "code",
   "execution_count": 24,
   "id": "ceb360a0",
   "metadata": {},
   "outputs": [],
   "source": [
    "# Customer Data\n",
    "table_name = \"CustomerData\"\n",
    "\n",
    "with open('CustomerData.csv', 'r') as file:\n",
    "    reader = csv.reader(file)\n",
    "    next(reader)  # Skip header row\n",
    "    with open('CustomerData.sql', 'w') as output_file:\n",
    "        for row in reader:\n",
    "            insert_statement = f\"INSERT INTO {table_name} (customer_id, name, email, contact_number, address, zip_code, dob, joined_date) VALUES ('{row[0]}', '{row[1]}', '{row[2]}', '{row[3]}', '{row[4]}', '{row[5]}', {null_handle(row, 6)},{null_handle(row, 7)});\"\n",
    "            output_file.write(insert_statement + '\\n')"
   ]
  },
  {
   "cell_type": "code",
   "execution_count": 25,
   "id": "8ba17838",
   "metadata": {},
   "outputs": [],
   "source": [
    "# Customer Favorite food Data\n",
    "table_name = \"CustomerFavouriteFood\"\n",
    "\n",
    "with open('CustomerFavouriteFood.csv', 'r') as file:\n",
    "    reader = csv.reader(file)\n",
    "    next(reader)  # Skip header row\n",
    "    with open('CustomerFavouriteFood.sql', 'w') as output_file:\n",
    "        for row in reader:\n",
    "            insert_statement = f\"INSERT INTO {table_name} (customer_id, favorite_foods) VALUES ('{row[0]}', '{row[1]}');\"\n",
    "            output_file.write(insert_statement + '\\n')"
   ]
  },
  {
   "cell_type": "code",
   "execution_count": 26,
   "id": "46673470",
   "metadata": {},
   "outputs": [],
   "source": [
    "# Employee Data\n",
    "table_name = \"EmployeeData\"\n",
    "\n",
    "with open('EmployeeData.csv', 'r') as file:\n",
    "    reader = csv.reader(file)\n",
    "    next(reader)  # Skip header row\n",
    "    with open('EmployeeData.sql', 'w') as output_file:\n",
    "        for row in reader:\n",
    "            insert_statement = f\"INSERT INTO {table_name} (employee_id, name, address, zip_code, dob, gender, contact_number, pay_per_hour, total_working_hours) VALUES ('{row[0]}', '{row[1]}', '{row[2]}', '{row[3]}', {null_handle(row, 4)}, {null_handle(row, 5)}, '{row[6]}', {null_handle(row, 7)}, {null_handle(row, 8)});\"\n",
    "            output_file.write(insert_statement + '\\n')"
   ]
  },
  {
   "cell_type": "code",
   "execution_count": 27,
   "id": "5d3f7754",
   "metadata": {},
   "outputs": [],
   "source": [
    "# Order Data\n",
    "table_name = \"OrdersData\"\n",
    "\n",
    "with open('OrdersData.csv', 'r') as file:\n",
    "    reader = csv.reader(file)\n",
    "    next(reader)  # Skip header row\n",
    "    with open('OrdersData.sql', 'w') as output_file:\n",
    "        for row in reader:\n",
    "            insert_statement = f\"INSERT INTO {table_name} (order_id, customer_id, restaurant_id, employee_id, order_date, order_time, delivery_charges, distance_from_restaurant, prepared_time, out_for_delivery_time, delivered_time, pick_up_time, estimated_delivery_time, completion_time, cancellation_time, refund_time, payment_type, flag, tip_amount) VALUES ('{row[0]}', '{row[1]}', '{row[2]}', '{row[3]}', '{row[4]}', '{row[5]}', {null_handle(row, 6)}, {null_handle(row, 7)}, {null_handle(row, 8)}, {null_handle(row, 9)}, {null_handle(row, 10)}, {null_handle(row, 11)}, {null_handle(row, 12)}, {null_handle(row, 13)}, {null_handle(row, 14)}, {null_handle(row, 15)}, {null_handle(row, 16)}, {null_handle(row, 17)}, {null_handle(row, 18)});\"\n",
    "            output_file.write(insert_statement + '\\n')"
   ]
  },
  {
   "cell_type": "code",
   "execution_count": 28,
   "id": "4e99338c",
   "metadata": {},
   "outputs": [],
   "source": [
    "# Order has Item Data\n",
    "table_name = \"OrderHasItems\"\n",
    "\n",
    "with open('OrderHasItems.csv', 'r') as file:\n",
    "    reader = csv.reader(file)\n",
    "    next(reader)  # Skip header row\n",
    "    with open('OrderHasItems.sql', 'w') as output_file:\n",
    "        for row in reader:\n",
    "            insert_statement = f\"INSERT INTO {table_name} (order_id, item_id, quantity) VALUES ('{row[0]}', '{row[1]}', {null_handle(row, 2)});\"\n",
    "            output_file.write(insert_statement + '\\n')"
   ]
  },
  {
   "cell_type": "code",
   "execution_count": 29,
   "id": "ebf89c68",
   "metadata": {},
   "outputs": [],
   "source": [
    "# Review Data\n",
    "table_name = \"ReviewsData\"\n",
    "\n",
    "with open('ReviewsData.csv', 'r') as file:\n",
    "    reader = csv.reader(file)\n",
    "    next(reader)  # Skip header row\n",
    "    with open('ReviewsData.sql', 'w') as output_file:\n",
    "        for row in reader:\n",
    "            insert_statement = f\"INSERT INTO {table_name} (review_id, customer_id, employee_id, restaurant_id, rating) VALUES ('{row[0]}', '{row[1]}', {null_handle(row, 2)}, {null_handle(row, 3)}, '{row[4]}');\"\n",
    "            output_file.write(insert_statement + '\\n')"
   ]
  },
  {
   "cell_type": "code",
   "execution_count": 30,
   "id": "19ccaa5d",
   "metadata": {},
   "outputs": [],
   "source": [
    "# Merge all sqls into final DBinsert.sql \n",
    "import os\n",
    "\n",
    "files = [\n",
    "    'RestaurantData.sql',\n",
    "    'RestaurantFacility.sql',\n",
    "    'ItemData.sql',\n",
    "    'CustomerData.sql',\n",
    "    'CustomerFavouriteFood.sql',\n",
    "    'EmployeeData.sql',\n",
    "    'OrdersData.sql',\n",
    "    'OrderHasItems.sql',\n",
    "    'ReviewsData.sql'\n",
    "]\n",
    "\n",
    "with open('DBinsert.sql', 'w') as outfile:\n",
    "    for fname in files:\n",
    "        with open(fname) as infile:\n",
    "            outfile.write(infile.read() + '\\n')\n"
   ]
  }
 ],
 "metadata": {
  "kernelspec": {
   "display_name": "Python 3 (ipykernel)",
   "language": "python",
   "name": "python3"
  },
  "language_info": {
   "codemirror_mode": {
    "name": "ipython",
    "version": 3
   },
   "file_extension": ".py",
   "mimetype": "text/x-python",
   "name": "python",
   "nbconvert_exporter": "python",
   "pygments_lexer": "ipython3",
   "version": "3.10.9"
  }
 },
 "nbformat": 4,
 "nbformat_minor": 5
}
